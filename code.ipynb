{
 "cells": [
  {
   "cell_type": "markdown",
   "metadata": {},
   "source": [
    "# Madrid AirBnB data analysis"
   ]
  },
  {
   "cell_type": "code",
   "execution_count": 50,
   "metadata": {},
   "outputs": [],
   "source": [
    "# Import necessary libraries\n",
    "\n",
    "import numpy as np\n",
    "import pandas as pd\n",
    "import matplotlib.pyplot as plt\n",
    "from sklearn.linear_model import LinearRegression\n",
    "from sklearn.model_selection import train_test_split\n",
    "from sklearn.metrics import r2_score, mean_squared_error\n",
    "import seaborn as sns\n",
    "import geopandas as gpd\n",
    "%matplotlib inline"
   ]
  },
  {
   "cell_type": "markdown",
   "metadata": {},
   "source": [
    "First step is loading the data in a dataframe structure. For more information on the source of the data please check the README.md file"
   ]
  },
  {
   "cell_type": "code",
   "execution_count": 31,
   "metadata": {},
   "outputs": [
    {
     "data": {
      "text/html": [
       "<div>\n",
       "<style scoped>\n",
       "    .dataframe tbody tr th:only-of-type {\n",
       "        vertical-align: middle;\n",
       "    }\n",
       "\n",
       "    .dataframe tbody tr th {\n",
       "        vertical-align: top;\n",
       "    }\n",
       "\n",
       "    .dataframe thead th {\n",
       "        text-align: right;\n",
       "    }\n",
       "</style>\n",
       "<table border=\"1\" class=\"dataframe\">\n",
       "  <thead>\n",
       "    <tr style=\"text-align: right;\">\n",
       "      <th></th>\n",
       "      <th>id</th>\n",
       "      <th>listing_url</th>\n",
       "      <th>scrape_id</th>\n",
       "      <th>last_scraped</th>\n",
       "      <th>source</th>\n",
       "      <th>name</th>\n",
       "      <th>description</th>\n",
       "      <th>neighborhood_overview</th>\n",
       "      <th>picture_url</th>\n",
       "      <th>host_id</th>\n",
       "      <th>...</th>\n",
       "      <th>review_scores_communication</th>\n",
       "      <th>review_scores_location</th>\n",
       "      <th>review_scores_value</th>\n",
       "      <th>license</th>\n",
       "      <th>instant_bookable</th>\n",
       "      <th>calculated_host_listings_count</th>\n",
       "      <th>calculated_host_listings_count_entire_homes</th>\n",
       "      <th>calculated_host_listings_count_private_rooms</th>\n",
       "      <th>calculated_host_listings_count_shared_rooms</th>\n",
       "      <th>reviews_per_month</th>\n",
       "    </tr>\n",
       "  </thead>\n",
       "  <tbody>\n",
       "    <tr>\n",
       "      <th>0</th>\n",
       "      <td>6369</td>\n",
       "      <td>https://www.airbnb.com/rooms/6369</td>\n",
       "      <td>20231215032748</td>\n",
       "      <td>2023-12-15</td>\n",
       "      <td>city scrape</td>\n",
       "      <td>Rental unit in Madrid · ★4.88 · 1 bedroom · 1 ...</td>\n",
       "      <td>NaN</td>\n",
       "      <td>NaN</td>\n",
       "      <td>https://a0.muscache.com/pictures/683224/4cc318...</td>\n",
       "      <td>13660</td>\n",
       "      <td>...</td>\n",
       "      <td>4.86</td>\n",
       "      <td>4.84</td>\n",
       "      <td>4.86</td>\n",
       "      <td>NaN</td>\n",
       "      <td>f</td>\n",
       "      <td>1</td>\n",
       "      <td>0</td>\n",
       "      <td>1</td>\n",
       "      <td>0</td>\n",
       "      <td>0.63</td>\n",
       "    </tr>\n",
       "    <tr>\n",
       "      <th>1</th>\n",
       "      <td>21853</td>\n",
       "      <td>https://www.airbnb.com/rooms/21853</td>\n",
       "      <td>20231215032748</td>\n",
       "      <td>2023-12-15</td>\n",
       "      <td>city scrape</td>\n",
       "      <td>Rental unit in Madrid · ★4.58 · 1 bedroom · 1 ...</td>\n",
       "      <td>NaN</td>\n",
       "      <td>We live in a leafy neighbourhood with plenty o...</td>\n",
       "      <td>https://a0.muscache.com/pictures/68483181/87bc...</td>\n",
       "      <td>83531</td>\n",
       "      <td>...</td>\n",
       "      <td>4.82</td>\n",
       "      <td>4.21</td>\n",
       "      <td>4.67</td>\n",
       "      <td>NaN</td>\n",
       "      <td>f</td>\n",
       "      <td>2</td>\n",
       "      <td>0</td>\n",
       "      <td>2</td>\n",
       "      <td>0</td>\n",
       "      <td>0.30</td>\n",
       "    </tr>\n",
       "    <tr>\n",
       "      <th>2</th>\n",
       "      <td>24805</td>\n",
       "      <td>https://www.airbnb.com/rooms/24805</td>\n",
       "      <td>20231215032748</td>\n",
       "      <td>2023-12-15</td>\n",
       "      <td>city scrape</td>\n",
       "      <td>Rental unit in Madrid · ★4.91 · 6 bedrooms · 1...</td>\n",
       "      <td>NaN</td>\n",
       "      <td>The area is next to the Gran Via, so people li...</td>\n",
       "      <td>https://a0.muscache.com/pictures/miso/Hosting-...</td>\n",
       "      <td>346366726</td>\n",
       "      <td>...</td>\n",
       "      <td>4.97</td>\n",
       "      <td>5.00</td>\n",
       "      <td>4.76</td>\n",
       "      <td>NaN</td>\n",
       "      <td>f</td>\n",
       "      <td>1</td>\n",
       "      <td>1</td>\n",
       "      <td>0</td>\n",
       "      <td>0</td>\n",
       "      <td>0.30</td>\n",
       "    </tr>\n",
       "    <tr>\n",
       "      <th>3</th>\n",
       "      <td>26825</td>\n",
       "      <td>https://www.airbnb.com/rooms/26825</td>\n",
       "      <td>20231215032748</td>\n",
       "      <td>2023-12-15</td>\n",
       "      <td>city scrape</td>\n",
       "      <td>Home in Madrid · ★4.72 · 1 bedroom · 1 bed · 1...</td>\n",
       "      <td>NaN</td>\n",
       "      <td>Es un barrio muy tranquilo, en una zona de Mad...</td>\n",
       "      <td>https://a0.muscache.com/pictures/149358/218d5b...</td>\n",
       "      <td>114340</td>\n",
       "      <td>...</td>\n",
       "      <td>4.72</td>\n",
       "      <td>4.73</td>\n",
       "      <td>4.77</td>\n",
       "      <td>NaN</td>\n",
       "      <td>f</td>\n",
       "      <td>1</td>\n",
       "      <td>0</td>\n",
       "      <td>1</td>\n",
       "      <td>0</td>\n",
       "      <td>1.18</td>\n",
       "    </tr>\n",
       "    <tr>\n",
       "      <th>4</th>\n",
       "      <td>30320</td>\n",
       "      <td>https://www.airbnb.com/rooms/30320</td>\n",
       "      <td>20231215032748</td>\n",
       "      <td>2023-12-15</td>\n",
       "      <td>previous scrape</td>\n",
       "      <td>Rental unit in Madrid · ★4.63 · 1 bedroom · 2 ...</td>\n",
       "      <td>NaN</td>\n",
       "      <td>NaN</td>\n",
       "      <td>https://a0.muscache.com/pictures/336868/f67409...</td>\n",
       "      <td>130907</td>\n",
       "      <td>...</td>\n",
       "      <td>4.78</td>\n",
       "      <td>4.90</td>\n",
       "      <td>4.69</td>\n",
       "      <td>NaN</td>\n",
       "      <td>f</td>\n",
       "      <td>3</td>\n",
       "      <td>3</td>\n",
       "      <td>0</td>\n",
       "      <td>0</td>\n",
       "      <td>1.05</td>\n",
       "    </tr>\n",
       "  </tbody>\n",
       "</table>\n",
       "<p>5 rows × 75 columns</p>\n",
       "</div>"
      ],
      "text/plain": [
       "      id                         listing_url       scrape_id last_scraped  \\\n",
       "0   6369   https://www.airbnb.com/rooms/6369  20231215032748   2023-12-15   \n",
       "1  21853  https://www.airbnb.com/rooms/21853  20231215032748   2023-12-15   \n",
       "2  24805  https://www.airbnb.com/rooms/24805  20231215032748   2023-12-15   \n",
       "3  26825  https://www.airbnb.com/rooms/26825  20231215032748   2023-12-15   \n",
       "4  30320  https://www.airbnb.com/rooms/30320  20231215032748   2023-12-15   \n",
       "\n",
       "            source                                               name  \\\n",
       "0      city scrape  Rental unit in Madrid · ★4.88 · 1 bedroom · 1 ...   \n",
       "1      city scrape  Rental unit in Madrid · ★4.58 · 1 bedroom · 1 ...   \n",
       "2      city scrape  Rental unit in Madrid · ★4.91 · 6 bedrooms · 1...   \n",
       "3      city scrape  Home in Madrid · ★4.72 · 1 bedroom · 1 bed · 1...   \n",
       "4  previous scrape  Rental unit in Madrid · ★4.63 · 1 bedroom · 2 ...   \n",
       "\n",
       "   description                              neighborhood_overview  \\\n",
       "0          NaN                                                NaN   \n",
       "1          NaN  We live in a leafy neighbourhood with plenty o...   \n",
       "2          NaN  The area is next to the Gran Via, so people li...   \n",
       "3          NaN  Es un barrio muy tranquilo, en una zona de Mad...   \n",
       "4          NaN                                                NaN   \n",
       "\n",
       "                                         picture_url    host_id  ...  \\\n",
       "0  https://a0.muscache.com/pictures/683224/4cc318...      13660  ...   \n",
       "1  https://a0.muscache.com/pictures/68483181/87bc...      83531  ...   \n",
       "2  https://a0.muscache.com/pictures/miso/Hosting-...  346366726  ...   \n",
       "3  https://a0.muscache.com/pictures/149358/218d5b...     114340  ...   \n",
       "4  https://a0.muscache.com/pictures/336868/f67409...     130907  ...   \n",
       "\n",
       "  review_scores_communication review_scores_location review_scores_value  \\\n",
       "0                        4.86                   4.84                4.86   \n",
       "1                        4.82                   4.21                4.67   \n",
       "2                        4.97                   5.00                4.76   \n",
       "3                        4.72                   4.73                4.77   \n",
       "4                        4.78                   4.90                4.69   \n",
       "\n",
       "  license instant_bookable calculated_host_listings_count  \\\n",
       "0     NaN                f                              1   \n",
       "1     NaN                f                              2   \n",
       "2     NaN                f                              1   \n",
       "3     NaN                f                              1   \n",
       "4     NaN                f                              3   \n",
       "\n",
       "  calculated_host_listings_count_entire_homes  \\\n",
       "0                                           0   \n",
       "1                                           0   \n",
       "2                                           1   \n",
       "3                                           0   \n",
       "4                                           3   \n",
       "\n",
       "  calculated_host_listings_count_private_rooms  \\\n",
       "0                                            1   \n",
       "1                                            2   \n",
       "2                                            0   \n",
       "3                                            1   \n",
       "4                                            0   \n",
       "\n",
       "  calculated_host_listings_count_shared_rooms reviews_per_month  \n",
       "0                                           0              0.63  \n",
       "1                                           0              0.30  \n",
       "2                                           0              0.30  \n",
       "3                                           0              1.18  \n",
       "4                                           0              1.05  \n",
       "\n",
       "[5 rows x 75 columns]"
      ]
     },
     "execution_count": 31,
     "metadata": {},
     "output_type": "execute_result"
    }
   ],
   "source": [
    "df = pd.read_csv('../data files/listings.csv')\n",
    "df.head()"
   ]
  },
  {
   "cell_type": "code",
   "execution_count": 129,
   "metadata": {},
   "outputs": [
    {
     "data": {
      "text/html": [
       "<div>\n",
       "<style scoped>\n",
       "    .dataframe tbody tr th:only-of-type {\n",
       "        vertical-align: middle;\n",
       "    }\n",
       "\n",
       "    .dataframe tbody tr th {\n",
       "        vertical-align: top;\n",
       "    }\n",
       "\n",
       "    .dataframe thead th {\n",
       "        text-align: right;\n",
       "    }\n",
       "</style>\n",
       "<table border=\"1\" class=\"dataframe\">\n",
       "  <thead>\n",
       "    <tr style=\"text-align: right;\">\n",
       "      <th></th>\n",
       "      <th>id</th>\n",
       "      <th>scrape_id</th>\n",
       "      <th>description</th>\n",
       "      <th>host_id</th>\n",
       "      <th>host_listings_count</th>\n",
       "      <th>host_total_listings_count</th>\n",
       "      <th>latitude</th>\n",
       "      <th>longitude</th>\n",
       "      <th>accommodates</th>\n",
       "      <th>bathrooms</th>\n",
       "      <th>...</th>\n",
       "      <th>review_scores_cleanliness</th>\n",
       "      <th>review_scores_checkin</th>\n",
       "      <th>review_scores_communication</th>\n",
       "      <th>review_scores_location</th>\n",
       "      <th>review_scores_value</th>\n",
       "      <th>calculated_host_listings_count</th>\n",
       "      <th>calculated_host_listings_count_entire_homes</th>\n",
       "      <th>calculated_host_listings_count_private_rooms</th>\n",
       "      <th>calculated_host_listings_count_shared_rooms</th>\n",
       "      <th>reviews_per_month</th>\n",
       "    </tr>\n",
       "  </thead>\n",
       "  <tbody>\n",
       "    <tr>\n",
       "      <th>count</th>\n",
       "      <td>2.554300e+04</td>\n",
       "      <td>2.554300e+04</td>\n",
       "      <td>0.0</td>\n",
       "      <td>2.554300e+04</td>\n",
       "      <td>25532.000000</td>\n",
       "      <td>25532.000000</td>\n",
       "      <td>25543.000000</td>\n",
       "      <td>25543.000000</td>\n",
       "      <td>25543.000000</td>\n",
       "      <td>0.0</td>\n",
       "      <td>...</td>\n",
       "      <td>20213.000000</td>\n",
       "      <td>20214.000000</td>\n",
       "      <td>20215.000000</td>\n",
       "      <td>20212.000000</td>\n",
       "      <td>20211.000000</td>\n",
       "      <td>25543.000000</td>\n",
       "      <td>25543.000000</td>\n",
       "      <td>25543.000000</td>\n",
       "      <td>25543.000000</td>\n",
       "      <td>20176.000000</td>\n",
       "    </tr>\n",
       "    <tr>\n",
       "      <th>mean</th>\n",
       "      <td>4.159907e+17</td>\n",
       "      <td>2.023122e+13</td>\n",
       "      <td>NaN</td>\n",
       "      <td>2.172925e+08</td>\n",
       "      <td>34.318933</td>\n",
       "      <td>43.285916</td>\n",
       "      <td>40.421413</td>\n",
       "      <td>-3.694003</td>\n",
       "      <td>3.126727</td>\n",
       "      <td>NaN</td>\n",
       "      <td>...</td>\n",
       "      <td>4.666852</td>\n",
       "      <td>4.750049</td>\n",
       "      <td>4.759503</td>\n",
       "      <td>4.746825</td>\n",
       "      <td>4.555557</td>\n",
       "      <td>25.094272</td>\n",
       "      <td>19.962377</td>\n",
       "      <td>4.825353</td>\n",
       "      <td>0.269389</td>\n",
       "      <td>1.815256</td>\n",
       "    </tr>\n",
       "    <tr>\n",
       "      <th>std</th>\n",
       "      <td>4.324774e+17</td>\n",
       "      <td>6.336062e+00</td>\n",
       "      <td>NaN</td>\n",
       "      <td>1.833059e+08</td>\n",
       "      <td>96.321905</td>\n",
       "      <td>153.188924</td>\n",
       "      <td>0.023543</td>\n",
       "      <td>0.027755</td>\n",
       "      <td>1.920497</td>\n",
       "      <td>NaN</td>\n",
       "      <td>...</td>\n",
       "      <td>0.474094</td>\n",
       "      <td>0.431077</td>\n",
       "      <td>0.443542</td>\n",
       "      <td>0.394859</td>\n",
       "      <td>0.508168</td>\n",
       "      <td>58.120244</td>\n",
       "      <td>52.098890</td>\n",
       "      <td>27.827891</td>\n",
       "      <td>2.581711</td>\n",
       "      <td>1.917428</td>\n",
       "    </tr>\n",
       "    <tr>\n",
       "      <th>min</th>\n",
       "      <td>6.369000e+03</td>\n",
       "      <td>2.023122e+13</td>\n",
       "      <td>NaN</td>\n",
       "      <td>1.366000e+04</td>\n",
       "      <td>1.000000</td>\n",
       "      <td>1.000000</td>\n",
       "      <td>40.331397</td>\n",
       "      <td>-3.835330</td>\n",
       "      <td>1.000000</td>\n",
       "      <td>NaN</td>\n",
       "      <td>...</td>\n",
       "      <td>1.000000</td>\n",
       "      <td>1.000000</td>\n",
       "      <td>1.000000</td>\n",
       "      <td>1.000000</td>\n",
       "      <td>1.000000</td>\n",
       "      <td>1.000000</td>\n",
       "      <td>0.000000</td>\n",
       "      <td>0.000000</td>\n",
       "      <td>0.000000</td>\n",
       "      <td>0.010000</td>\n",
       "    </tr>\n",
       "    <tr>\n",
       "      <th>25%</th>\n",
       "      <td>3.114862e+07</td>\n",
       "      <td>2.023122e+13</td>\n",
       "      <td>NaN</td>\n",
       "      <td>4.087799e+07</td>\n",
       "      <td>1.000000</td>\n",
       "      <td>2.000000</td>\n",
       "      <td>40.409381</td>\n",
       "      <td>-3.707390</td>\n",
       "      <td>2.000000</td>\n",
       "      <td>NaN</td>\n",
       "      <td>...</td>\n",
       "      <td>4.570000</td>\n",
       "      <td>4.700000</td>\n",
       "      <td>4.720000</td>\n",
       "      <td>4.670000</td>\n",
       "      <td>4.450000</td>\n",
       "      <td>1.000000</td>\n",
       "      <td>0.000000</td>\n",
       "      <td>0.000000</td>\n",
       "      <td>0.000000</td>\n",
       "      <td>0.380000</td>\n",
       "    </tr>\n",
       "    <tr>\n",
       "      <th>50%</th>\n",
       "      <td>5.397609e+07</td>\n",
       "      <td>2.023122e+13</td>\n",
       "      <td>NaN</td>\n",
       "      <td>1.685328e+08</td>\n",
       "      <td>3.000000</td>\n",
       "      <td>4.000000</td>\n",
       "      <td>40.420240</td>\n",
       "      <td>-3.701070</td>\n",
       "      <td>2.000000</td>\n",
       "      <td>NaN</td>\n",
       "      <td>...</td>\n",
       "      <td>4.800000</td>\n",
       "      <td>4.860000</td>\n",
       "      <td>4.890000</td>\n",
       "      <td>4.880000</td>\n",
       "      <td>4.670000</td>\n",
       "      <td>3.000000</td>\n",
       "      <td>1.000000</td>\n",
       "      <td>0.000000</td>\n",
       "      <td>0.000000</td>\n",
       "      <td>1.190000</td>\n",
       "    </tr>\n",
       "    <tr>\n",
       "      <th>75%</th>\n",
       "      <td>8.698655e+17</td>\n",
       "      <td>2.023122e+13</td>\n",
       "      <td>NaN</td>\n",
       "      <td>3.991669e+08</td>\n",
       "      <td>18.000000</td>\n",
       "      <td>22.000000</td>\n",
       "      <td>40.431466</td>\n",
       "      <td>-3.685610</td>\n",
       "      <td>4.000000</td>\n",
       "      <td>NaN</td>\n",
       "      <td>...</td>\n",
       "      <td>4.950000</td>\n",
       "      <td>5.000000</td>\n",
       "      <td>5.000000</td>\n",
       "      <td>4.990000</td>\n",
       "      <td>4.840000</td>\n",
       "      <td>14.000000</td>\n",
       "      <td>7.000000</td>\n",
       "      <td>1.000000</td>\n",
       "      <td>0.000000</td>\n",
       "      <td>2.660000</td>\n",
       "    </tr>\n",
       "    <tr>\n",
       "      <th>max</th>\n",
       "      <td>1.046255e+18</td>\n",
       "      <td>2.023122e+13</td>\n",
       "      <td>NaN</td>\n",
       "      <td>5.507133e+08</td>\n",
       "      <td>2461.000000</td>\n",
       "      <td>5521.000000</td>\n",
       "      <td>40.535530</td>\n",
       "      <td>-3.545904</td>\n",
       "      <td>16.000000</td>\n",
       "      <td>NaN</td>\n",
       "      <td>...</td>\n",
       "      <td>5.000000</td>\n",
       "      <td>5.000000</td>\n",
       "      <td>5.000000</td>\n",
       "      <td>5.000000</td>\n",
       "      <td>5.000000</td>\n",
       "      <td>291.000000</td>\n",
       "      <td>291.000000</td>\n",
       "      <td>268.000000</td>\n",
       "      <td>39.000000</td>\n",
       "      <td>30.600000</td>\n",
       "    </tr>\n",
       "  </tbody>\n",
       "</table>\n",
       "<p>8 rows × 40 columns</p>\n",
       "</div>"
      ],
      "text/plain": [
       "                 id     scrape_id  description       host_id  \\\n",
       "count  2.554300e+04  2.554300e+04          0.0  2.554300e+04   \n",
       "mean   4.159907e+17  2.023122e+13          NaN  2.172925e+08   \n",
       "std    4.324774e+17  6.336062e+00          NaN  1.833059e+08   \n",
       "min    6.369000e+03  2.023122e+13          NaN  1.366000e+04   \n",
       "25%    3.114862e+07  2.023122e+13          NaN  4.087799e+07   \n",
       "50%    5.397609e+07  2.023122e+13          NaN  1.685328e+08   \n",
       "75%    8.698655e+17  2.023122e+13          NaN  3.991669e+08   \n",
       "max    1.046255e+18  2.023122e+13          NaN  5.507133e+08   \n",
       "\n",
       "       host_listings_count  host_total_listings_count      latitude  \\\n",
       "count         25532.000000               25532.000000  25543.000000   \n",
       "mean             34.318933                  43.285916     40.421413   \n",
       "std              96.321905                 153.188924      0.023543   \n",
       "min               1.000000                   1.000000     40.331397   \n",
       "25%               1.000000                   2.000000     40.409381   \n",
       "50%               3.000000                   4.000000     40.420240   \n",
       "75%              18.000000                  22.000000     40.431466   \n",
       "max            2461.000000                5521.000000     40.535530   \n",
       "\n",
       "          longitude  accommodates  bathrooms  ...  review_scores_cleanliness  \\\n",
       "count  25543.000000  25543.000000        0.0  ...               20213.000000   \n",
       "mean      -3.694003      3.126727        NaN  ...                   4.666852   \n",
       "std        0.027755      1.920497        NaN  ...                   0.474094   \n",
       "min       -3.835330      1.000000        NaN  ...                   1.000000   \n",
       "25%       -3.707390      2.000000        NaN  ...                   4.570000   \n",
       "50%       -3.701070      2.000000        NaN  ...                   4.800000   \n",
       "75%       -3.685610      4.000000        NaN  ...                   4.950000   \n",
       "max       -3.545904     16.000000        NaN  ...                   5.000000   \n",
       "\n",
       "       review_scores_checkin  review_scores_communication  \\\n",
       "count           20214.000000                 20215.000000   \n",
       "mean                4.750049                     4.759503   \n",
       "std                 0.431077                     0.443542   \n",
       "min                 1.000000                     1.000000   \n",
       "25%                 4.700000                     4.720000   \n",
       "50%                 4.860000                     4.890000   \n",
       "75%                 5.000000                     5.000000   \n",
       "max                 5.000000                     5.000000   \n",
       "\n",
       "       review_scores_location  review_scores_value  \\\n",
       "count            20212.000000         20211.000000   \n",
       "mean                 4.746825             4.555557   \n",
       "std                  0.394859             0.508168   \n",
       "min                  1.000000             1.000000   \n",
       "25%                  4.670000             4.450000   \n",
       "50%                  4.880000             4.670000   \n",
       "75%                  4.990000             4.840000   \n",
       "max                  5.000000             5.000000   \n",
       "\n",
       "       calculated_host_listings_count  \\\n",
       "count                    25543.000000   \n",
       "mean                        25.094272   \n",
       "std                         58.120244   \n",
       "min                          1.000000   \n",
       "25%                          1.000000   \n",
       "50%                          3.000000   \n",
       "75%                         14.000000   \n",
       "max                        291.000000   \n",
       "\n",
       "       calculated_host_listings_count_entire_homes  \\\n",
       "count                                 25543.000000   \n",
       "mean                                     19.962377   \n",
       "std                                      52.098890   \n",
       "min                                       0.000000   \n",
       "25%                                       0.000000   \n",
       "50%                                       1.000000   \n",
       "75%                                       7.000000   \n",
       "max                                     291.000000   \n",
       "\n",
       "       calculated_host_listings_count_private_rooms  \\\n",
       "count                                  25543.000000   \n",
       "mean                                       4.825353   \n",
       "std                                       27.827891   \n",
       "min                                        0.000000   \n",
       "25%                                        0.000000   \n",
       "50%                                        0.000000   \n",
       "75%                                        1.000000   \n",
       "max                                      268.000000   \n",
       "\n",
       "       calculated_host_listings_count_shared_rooms  reviews_per_month  \n",
       "count                                 25543.000000       20176.000000  \n",
       "mean                                      0.269389           1.815256  \n",
       "std                                       2.581711           1.917428  \n",
       "min                                       0.000000           0.010000  \n",
       "25%                                       0.000000           0.380000  \n",
       "50%                                       0.000000           1.190000  \n",
       "75%                                       0.000000           2.660000  \n",
       "max                                      39.000000          30.600000  \n",
       "\n",
       "[8 rows x 40 columns]"
      ]
     },
     "metadata": {},
     "output_type": "display_data"
    },
    {
     "name": "stdout",
     "output_type": "stream",
     "text": [
      "The dataframe has:\n",
      "25543 rows\n",
      "75 columns\n"
     ]
    }
   ],
   "source": [
    "#general overview of data\n",
    "display(df.describe())\n",
    "print('The dataframe has:\\n{} rows\\n{} columns'.format(df.shape[0], df.shape[1]))\n"
   ]
  },
  {
   "cell_type": "markdown",
   "metadata": {},
   "source": [
    "This dataframe has more than 25K entries. Each of them corresponding to an AirBnB listing that can be a full apartment, a single room or other.\n",
    "\n",
    "Next an analysis of the NaN values is performed to see if some columns can be droped. Four columns ('description', 'bathrooms', 'bedrooms', 'calendar_updated') had only NaN values and are dropped. Also there are a few columns that are not relevant for the study. These columns refer to urls of the listings, dates on when the data was scraped and from where it was scraped."
   ]
  },
  {
   "cell_type": "code",
   "execution_count": 130,
   "metadata": {},
   "outputs": [
    {
     "name": "stdout",
     "output_type": "stream",
     "text": [
      "Percentaje of missing values per column:\n",
      "bedrooms                 1.000000\n",
      "calendar_updated         1.000000\n",
      "description              1.000000\n",
      "bathrooms                1.000000\n",
      "license                  0.891007\n",
      "host_neighbourhood       0.595545\n",
      "host_about               0.521630\n",
      "neighborhood_overview    0.485691\n",
      "neighbourhood            0.485691\n",
      "host_location            0.303684\n",
      "dtype: float64\n",
      "After droping the columns, the new dataframe has:\n",
      "25543 rows\n",
      "59 columns\n"
     ]
    }
   ],
   "source": [
    "# NaN analysis\n",
    "\n",
    "# Check columns with Nan values\n",
    "nans_columns = df.isnull().mean()\n",
    "print('Percentaje of missing values per column:\\n{}'.format(nans_columns.sort_values(ascending=False).head(10)))\n",
    "\n",
    "# Drop columns that are all NaN\n",
    "df_new = df.dropna(how='all', axis=1)\n",
    "\n",
    "# Drop not needed columns\n",
    "\n",
    "columns_to_drop = [\n",
    "    'listing_url', 'scrape_id', 'last_scraped', \n",
    "    'source', 'picture_url', 'host_url', \n",
    "    'host_name', 'host_thumbnail_url', 'host_picture_url', \n",
    "    'host_has_profile_pic', 'calendar_last_scraped', 'license',\n",
    "    ]\n",
    "\n",
    "df_new = df_new.drop(columns=columns_to_drop)\n",
    "print('After droping the columns, the new dataframe has:\\n{} rows\\n{} columns'.format(df_new.shape[0], df_new.shape[1]))"
   ]
  },
  {
   "cell_type": "markdown",
   "metadata": {},
   "source": [
    "## Question 1: How are the listings distributed?\n",
    "Which neighborhoods have the most listings? Who is the owner of the listings?"
   ]
  },
  {
   "cell_type": "code",
   "execution_count": 34,
   "metadata": {},
   "outputs": [
    {
     "name": "stdout",
     "output_type": "stream",
     "text": [
      "neighbourhood_group_cleansed\n",
      "Centro                10878\n",
      "Salamanca              1729\n",
      "Chamberí               1716\n",
      "Tetuán                 1416\n",
      "Arganzuela             1277\n",
      "Carabanchel             918\n",
      "Retiro                  885\n",
      "Ciudad Lineal           841\n",
      "Chamartín               786\n",
      "Puente de Vallecas      738\n",
      "Name: count, dtype: int64\n",
      "The top 10 neighbourhoods account for 82.93% of the total listings\n"
     ]
    },
    {
     "data": {
      "image/png": "[encoded data removed]",
      "text/plain": [
       "<Figure size 640x480 with 1 Axes>"
      ]
     },
     "metadata": {},
     "output_type": "display_data"
    }
   ],
   "source": [
    "# Count how many listings are in each neighbourhood\n",
    "\n",
    "nghood_count = df_new['neighbourhood_group_cleansed'].value_counts()\n",
    "print(nghood_count.head(10))\n",
    "print('The top 10 neighbourhoods account for {:2.2%} of the total listings'.format(nghood_count.head(10).sum()/df.shape[0]))\n",
    "\n",
    "# Plot a pie chart with the percentaje of the top 10 neibourhoods\n",
    "\n",
    "# Group the other neighbourhoods in an \"other\" category\n",
    "pie_nghood = nghood_count\n",
    "pie_nghood['Other'] = nghood_count[10:].sum()\n",
    "pie_nghood = pie_nghood[[0, 1, 2, 3, 4, 5, 6, 7, 8, 9, -1]]\n",
    "\n",
    "# Plot\n",
    "plt.pie(pie_nghood.tolist(), labels=pie_nghood.keys().tolist(), autopct='%1.1f%%', colors=['blue', 'orange', 'green', 'red', 'purple', 'brown', 'pink', 'gray', 'olive', 'cyan', 'maroon'], pctdistance=0.8, radius=1.5, rotatelabels=True)\n",
    "plt.show() "
   ]
  },
  {
   "cell_type": "markdown",
   "metadata": {},
   "source": [
    "As the data shows, most listings are in Centro, that makes sense as it's the most turistic part of the city."
   ]
  },
  {
   "cell_type": "code",
   "execution_count": 35,
   "metadata": {},
   "outputs": [
    {
     "name": "stdout",
     "output_type": "stream",
     "text": [
      "neighbourhood_cleansed\n",
      "Embajadores        3010\n",
      "Universidad        2349\n",
      "Palacio            1854\n",
      "Sol                1329\n",
      "Justicia           1285\n",
      "Cortes             1051\n",
      "Trafalgar           551\n",
      "Palos de Moguer     422\n",
      "Guindalera          408\n",
      "Goya                390\n",
      "Name: count, dtype: int64\n",
      "The top 10 neighbourhoods account for 82.93% of the total listings\n"
     ]
    },
    {
     "data": {
      "image/png": "[encoded data removed]",
      "text/plain": [
       "<Figure size 640x480 with 1 Axes>"
      ]
     },
     "metadata": {},
     "output_type": "display_data"
    }
   ],
   "source": [
    "# Break down to next level neighbourhood\n",
    "\n",
    "nghood_2_count = df_new['neighbourhood_cleansed'].value_counts()\n",
    "print(nghood_2_count.head(10))\n",
    "print('The top 10 neighbourhoods account for {:2.2%} of the total listings'.format(nghood_count.head(10).sum()/df.shape[0]))\n",
    "\n",
    "# Plot a bar chart with the neighbourhoods that host more that 250 listings\n",
    "\n",
    "pie_nghood = nghood_2_count[nghood_2_count>=250]\n",
    "\n",
    "# Plot\n",
    "plt.bar(pie_nghood.keys().tolist(), pie_nghood.tolist())\n",
    "plt.xticks(rotation=90)\n",
    "plt.show() "
   ]
  },
  {
   "cell_type": "markdown",
   "metadata": {},
   "source": [
    "The graph shows that there are 6 neighbourhoods that have many more listings than the rest:\n",
    "* Embajadores\n",
    "* Universidad\n",
    "* Palacio\n",
    "* Sol\n",
    "* Justicia\n",
    "* Cortes"
   ]
  },
  {
   "cell_type": "markdown",
   "metadata": {},
   "source": [
    "Now the question of the hosts (i.e. who published each listing) is analyzed"
   ]
  },
  {
   "cell_type": "code",
   "execution_count": 36,
   "metadata": {},
   "outputs": [
    {
     "data": {
      "text/plain": [
       "count    12466.000000\n",
       "mean         2.049013\n",
       "std          6.871960\n",
       "min          1.000000\n",
       "25%          1.000000\n",
       "50%          1.000000\n",
       "75%          1.000000\n",
       "max        291.000000\n",
       "Name: count, dtype: float64"
      ]
     },
     "metadata": {},
     "output_type": "display_data"
    },
    {
     "name": "stdout",
     "output_type": "stream",
     "text": [
      "The top 10 owners account for 7.37% of the total listings\n"
     ]
    }
   ],
   "source": [
    "# Variable analysis on the host_id\n",
    "\n",
    "owner_count = df['host_id'].value_counts()\n",
    "display(owner_count.describe())\n",
    "\n",
    "print('The top 10 owners account for {:2.2%} of the total listings'.format(owner_count.head(10).sum()/df.shape[0]))"
   ]
  },
  {
   "cell_type": "markdown",
   "metadata": {},
   "source": [
    "There are 12.466 different hosts in the dataset. The distibution of the data reveals that:\n",
    "* Most of the hosts have only 1 listing (the minimun, 25%, 50% and 75% of the data is this value)\n",
    "* The max listings for a host is 291"
   ]
  },
  {
   "cell_type": "code",
   "execution_count": 37,
   "metadata": {},
   "outputs": [
    {
     "name": "stdout",
     "output_type": "stream",
     "text": [
      "(0, 1]        9418\n",
      "(1, 10]       2817\n",
      "(10, 50]       202\n",
      "(50, 100]       19\n",
      "(100, 300]      10\n",
      "Name: count, dtype: int64\n"
     ]
    }
   ],
   "source": [
    "# Define bins to get ranges of listings per host\n",
    "\n",
    "bins = [0, 1, 10, 50, 100, 300]\n",
    "owner_bins = pd.cut(owner_count.tolist(), bins=bins)\n",
    "print(owner_bins.value_counts())"
   ]
  },
  {
   "cell_type": "markdown",
   "metadata": {},
   "source": [
    "Considering 5 posible levels of hosts, it's interesting to create a new categorical variable in the dataframe to study the impact of the type of host:\n",
    "\n",
    "|Bin|Category|\n",
    "|---|--------|\n",
    "|(0, 1]|single_property|\n",
    "|(1, 10]|small_owner|\n",
    "|(10, 50]|mid_owner|\n",
    "|(50, 100]|big_owner|\n",
    "|(100, 300]|massive_owner|"
   ]
  },
  {
   "cell_type": "code",
   "execution_count": 38,
   "metadata": {},
   "outputs": [
    {
     "data": {
      "text/plain": [
       "(25543, 60)"
      ]
     },
     "execution_count": 38,
     "metadata": {},
     "output_type": "execute_result"
    }
   ],
   "source": [
    "# Define the categories\n",
    "\n",
    "host_types = ['single_property', 'small_owner', 'mid_owner', 'big_owner', 'massive_owner']\n",
    "\n",
    "# Create a dictionary with the categories and the host_id\n",
    "host_types_matrix = dict(pd.cut(owner_count, bins=bins, labels=host_types))\n",
    "\n",
    "def change_dtype_dict(d):\n",
    "    '''\n",
    "    INPUT\n",
    "    d -> a source dictionary to change datatype of key to int\n",
    "\n",
    "    OUTPUP\n",
    "    dict -> a new dictionary with the new datatype\n",
    "\n",
    "    '''\n",
    "\n",
    "    dict={}\n",
    "    dict = {int(k):v for k,v in d.items()}\n",
    "    \n",
    "    return dict\n",
    "\n",
    "host_types_matrix = change_dtype_dict(host_types_matrix)\n",
    "\n",
    "# Create a new column with 'category\" dtype in the dataframe\n",
    "# the map method will map each host_id with the corresponding category using the dictionary defined above\n",
    "df_new['host_type'] = df_new['host_id'].map(host_types_matrix).astype('category')\n",
    "df_new.shape"
   ]
  },
  {
   "cell_type": "markdown",
   "metadata": {},
   "source": [
    "The categorization is used to calculate how many listings are published by each category"
   ]
  },
  {
   "cell_type": "code",
   "execution_count": 39,
   "metadata": {},
   "outputs": [
    {
     "name": "stdout",
     "output_type": "stream",
     "text": [
      "host_type\n",
      "single_property    9418\n",
      "small_owner        8899\n",
      "mid_owner          3976\n",
      "massive_owner      1882\n",
      "big_owner          1368\n",
      "Name: count, dtype: int64\n"
     ]
    },
    {
     "data": {
      "image/png": "[encoded data removed]",
      "text/plain": [
       "<Figure size 640x480 with 1 Axes>"
      ]
     },
     "metadata": {},
     "output_type": "display_data"
    }
   ],
   "source": [
    "# Count how many listings are in each host category\n",
    "host_types_count = df_new['host_type'].value_counts()\n",
    "print(host_types_count)\n",
    "\n",
    "# Plot a pie chart with the results\n",
    "plt.pie(host_types_count.tolist(), labels=host_types_count.keys().tolist(), autopct='%1.1f%%')\n",
    "plt.show()"
   ]
  },
  {
   "cell_type": "markdown",
   "metadata": {},
   "source": [
    "Almost 13% of the listings are published by hosts that have more than 100 listings. This hosts are likely professionals running a business."
   ]
  },
  {
   "cell_type": "markdown",
   "metadata": {},
   "source": [
    "## Question 2: What factors influence the reviews?\n",
    "Whats the average score per neighbourhood? Different room types have different scores?"
   ]
  },
  {
   "cell_type": "markdown",
   "metadata": {},
   "source": [
    "There are 7 columns related to reviews and scores:\n",
    "* review_scores_rating\n",
    "* review_scores_accuracy\n",
    "* review_scores_cleanliness\n",
    "* review_scores_checkin\n",
    "* review_scores_communication\n",
    "* review_scores_location\n",
    "* review_scores_value\n",
    "\n",
    "Before dealing with the underlying factors of each score, let's analyze how each of the score impact in the general rating."
   ]
  },
  {
   "cell_type": "code",
   "execution_count": 40,
   "metadata": {},
   "outputs": [
    {
     "name": "stdout",
     "output_type": "stream",
     "text": [
      "The extracted dataframe has 25543 rows and 7 columns\n",
      "The scores variables have this percentaje of NaN:\n",
      "review_scores_rating           0.208550\n",
      "review_scores_accuracy         0.208668\n",
      "review_scores_cleanliness      0.208668\n",
      "review_scores_checkin          0.208629\n",
      "review_scores_communication    0.208589\n",
      "review_scores_location         0.208707\n",
      "review_scores_value            0.208746\n",
      "dtype: float64\n"
     ]
    }
   ],
   "source": [
    "# Extract the scores columns\n",
    "\n",
    "df_scores = df_new[[\n",
    "    'review_scores_rating', 'review_scores_accuracy', 'review_scores_cleanliness',\n",
    "    'review_scores_checkin', 'review_scores_communication', 'review_scores_location',\n",
    "    'review_scores_value'\n",
    "    ]]\n",
    "\n",
    "print('The extracted dataframe has {} rows and {} columns'.format(df_scores.shape[0], df_scores.shape[1]))\n",
    "# Are there NaN values in the scores?\n",
    "print('The scores variables have this percentaje of NaN:\\n{}'.format(df_scores.isnull().mean()))"
   ]
  },
  {
   "cell_type": "markdown",
   "metadata": {},
   "source": [
    "Almost 21% of the values are missing. The percentajes are not the same, but it's probable that the rows without any value in rating will not have values in the remaining columns."
   ]
  },
  {
   "cell_type": "code",
   "execution_count": 41,
   "metadata": {},
   "outputs": [
    {
     "name": "stdout",
     "output_type": "stream",
     "text": [
      "After deleting the rows with NaN values the dataframe has 20206 rows and 7 columns\n"
     ]
    },
    {
     "name": "stderr",
     "output_type": "stream",
     "text": [
      "C:\\Users\\Toni\\AppData\\Local\\Temp\\ipykernel_14484\\3322967166.py:2: SettingWithCopyWarning: \n",
      "A value is trying to be set on a copy of a slice from a DataFrame\n",
      "\n",
      "See the caveats in the documentation: https://pandas.pydata.org/pandas-docs/stable/user_guide/indexing.html#returning-a-view-versus-a-copy\n",
      "  df_scores.dropna(inplace=True, axis=0)\n"
     ]
    }
   ],
   "source": [
    "# Drop rows that have NaN in any of the columns\n",
    "df_scores.dropna(inplace=True, axis=0)\n",
    "print('After deleting the rows with NaN values the dataframe has {} rows and {} columns'.format(df_scores.shape[0], df_scores.shape[1]))"
   ]
  },
  {
   "cell_type": "code",
   "execution_count": 42,
   "metadata": {},
   "outputs": [
    {
     "data": {
      "image/png": "[encoded data removed]",
      "text/plain": [
       "<Figure size 640x480 with 2 Axes>"
      ]
     },
     "metadata": {},
     "output_type": "display_data"
    }
   ],
   "source": [
    "# heatmap displaying the correlation  matrix\n",
    "sns.heatmap(df_scores.corr(), annot=True, fmt=\".2f\");"
   ]
  },
  {
   "cell_type": "markdown",
   "metadata": {},
   "source": [
    "There is a signficant difference between the correlation of the different scores. Apparently the location score is less related to the remaining scores. Whereas the value and the accuracy are hightly correlated with the rating."
   ]
  },
  {
   "cell_type": "code",
   "execution_count": 49,
   "metadata": {},
   "outputs": [
    {
     "data": {
      "text/html": [
       "<div>\n",
       "<style scoped>\n",
       "    .dataframe tbody tr th:only-of-type {\n",
       "        vertical-align: middle;\n",
       "    }\n",
       "\n",
       "    .dataframe tbody tr th {\n",
       "        vertical-align: top;\n",
       "    }\n",
       "\n",
       "    .dataframe thead th {\n",
       "        text-align: right;\n",
       "    }\n",
       "</style>\n",
       "<table border=\"1\" class=\"dataframe\">\n",
       "  <thead>\n",
       "    <tr style=\"text-align: right;\">\n",
       "      <th></th>\n",
       "      <th>review_scores_location</th>\n",
       "    </tr>\n",
       "  </thead>\n",
       "  <tbody>\n",
       "    <tr>\n",
       "      <th>count</th>\n",
       "      <td>20212.000000</td>\n",
       "    </tr>\n",
       "    <tr>\n",
       "      <th>mean</th>\n",
       "      <td>4.746825</td>\n",
       "    </tr>\n",
       "    <tr>\n",
       "      <th>std</th>\n",
       "      <td>0.394859</td>\n",
       "    </tr>\n",
       "    <tr>\n",
       "      <th>min</th>\n",
       "      <td>1.000000</td>\n",
       "    </tr>\n",
       "    <tr>\n",
       "      <th>25%</th>\n",
       "      <td>4.670000</td>\n",
       "    </tr>\n",
       "    <tr>\n",
       "      <th>50%</th>\n",
       "      <td>4.880000</td>\n",
       "    </tr>\n",
       "    <tr>\n",
       "      <th>75%</th>\n",
       "      <td>4.990000</td>\n",
       "    </tr>\n",
       "    <tr>\n",
       "      <th>max</th>\n",
       "      <td>5.000000</td>\n",
       "    </tr>\n",
       "  </tbody>\n",
       "</table>\n",
       "</div>"
      ],
      "text/plain": [
       "       review_scores_location\n",
       "count            20212.000000\n",
       "mean                 4.746825\n",
       "std                  0.394859\n",
       "min                  1.000000\n",
       "25%                  4.670000\n",
       "50%                  4.880000\n",
       "75%                  4.990000\n",
       "max                  5.000000"
      ]
     },
     "metadata": {},
     "output_type": "display_data"
    },
    {
     "data": {
      "text/html": [
       "<div>\n",
       "<style scoped>\n",
       "    .dataframe tbody tr th:only-of-type {\n",
       "        vertical-align: middle;\n",
       "    }\n",
       "\n",
       "    .dataframe tbody tr th {\n",
       "        vertical-align: top;\n",
       "    }\n",
       "\n",
       "    .dataframe thead th {\n",
       "        text-align: right;\n",
       "    }\n",
       "</style>\n",
       "<table border=\"1\" class=\"dataframe\">\n",
       "  <thead>\n",
       "    <tr style=\"text-align: right;\">\n",
       "      <th></th>\n",
       "      <th>review_scores_location</th>\n",
       "    </tr>\n",
       "    <tr>\n",
       "      <th>neighbourhood_group_cleansed</th>\n",
       "      <th></th>\n",
       "    </tr>\n",
       "  </thead>\n",
       "  <tbody>\n",
       "    <tr>\n",
       "      <th>Centro</th>\n",
       "      <td>4.852432</td>\n",
       "    </tr>\n",
       "    <tr>\n",
       "      <th>Chamberí</th>\n",
       "      <td>4.823084</td>\n",
       "    </tr>\n",
       "    <tr>\n",
       "      <th>Salamanca</th>\n",
       "      <td>4.821336</td>\n",
       "    </tr>\n",
       "    <tr>\n",
       "      <th>Retiro</th>\n",
       "      <td>4.781110</td>\n",
       "    </tr>\n",
       "    <tr>\n",
       "      <th>Moncloa - Aravaca</th>\n",
       "      <td>4.779344</td>\n",
       "    </tr>\n",
       "    <tr>\n",
       "      <th>Barajas</th>\n",
       "      <td>4.762536</td>\n",
       "    </tr>\n",
       "    <tr>\n",
       "      <th>Arganzuela</th>\n",
       "      <td>4.755906</td>\n",
       "    </tr>\n",
       "    <tr>\n",
       "      <th>Chamartín</th>\n",
       "      <td>4.704853</td>\n",
       "    </tr>\n",
       "    <tr>\n",
       "      <th>Fuencarral - El Pardo</th>\n",
       "      <td>4.634721</td>\n",
       "    </tr>\n",
       "    <tr>\n",
       "      <th>Moratalaz</th>\n",
       "      <td>4.632481</td>\n",
       "    </tr>\n",
       "    <tr>\n",
       "      <th>Ciudad Lineal</th>\n",
       "      <td>4.621942</td>\n",
       "    </tr>\n",
       "    <tr>\n",
       "      <th>Hortaleza</th>\n",
       "      <td>4.618119</td>\n",
       "    </tr>\n",
       "    <tr>\n",
       "      <th>Villa de Vallecas</th>\n",
       "      <td>4.578889</td>\n",
       "    </tr>\n",
       "    <tr>\n",
       "      <th>Vicálvaro</th>\n",
       "      <td>4.558136</td>\n",
       "    </tr>\n",
       "    <tr>\n",
       "      <th>Tetuán</th>\n",
       "      <td>4.554485</td>\n",
       "    </tr>\n",
       "    <tr>\n",
       "      <th>San Blas - Canillejas</th>\n",
       "      <td>4.548257</td>\n",
       "    </tr>\n",
       "    <tr>\n",
       "      <th>Latina</th>\n",
       "      <td>4.528561</td>\n",
       "    </tr>\n",
       "    <tr>\n",
       "      <th>Carabanchel</th>\n",
       "      <td>4.486960</td>\n",
       "    </tr>\n",
       "    <tr>\n",
       "      <th>Usera</th>\n",
       "      <td>4.435137</td>\n",
       "    </tr>\n",
       "    <tr>\n",
       "      <th>Puente de Vallecas</th>\n",
       "      <td>4.430595</td>\n",
       "    </tr>\n",
       "    <tr>\n",
       "      <th>Villaverde</th>\n",
       "      <td>4.378743</td>\n",
       "    </tr>\n",
       "  </tbody>\n",
       "</table>\n",
       "</div>"
      ],
      "text/plain": [
       "                              review_scores_location\n",
       "neighbourhood_group_cleansed                        \n",
       "Centro                                      4.852432\n",
       "Chamberí                                    4.823084\n",
       "Salamanca                                   4.821336\n",
       "Retiro                                      4.781110\n",
       "Moncloa - Aravaca                           4.779344\n",
       "Barajas                                     4.762536\n",
       "Arganzuela                                  4.755906\n",
       "Chamartín                                   4.704853\n",
       "Fuencarral - El Pardo                       4.634721\n",
       "Moratalaz                                   4.632481\n",
       "Ciudad Lineal                               4.621942\n",
       "Hortaleza                                   4.618119\n",
       "Villa de Vallecas                           4.578889\n",
       "Vicálvaro                                   4.558136\n",
       "Tetuán                                      4.554485\n",
       "San Blas - Canillejas                       4.548257\n",
       "Latina                                      4.528561\n",
       "Carabanchel                                 4.486960\n",
       "Usera                                       4.435137\n",
       "Puente de Vallecas                          4.430595\n",
       "Villaverde                                  4.378743"
      ]
     },
     "execution_count": 49,
     "metadata": {},
     "output_type": "execute_result"
    }
   ],
   "source": [
    "# Location ranking for each neighbourhood\n",
    "\n",
    "df_location = df_new[['review_scores_location','neighbourhood_group_cleansed']]\n",
    "display(df_location.describe())\n",
    "df_location.groupby(['neighbourhood_group_cleansed']).mean().sort_values('review_scores_location', ascending=False)"
   ]
  },
  {
   "cell_type": "markdown",
   "metadata": {},
   "source": [
    "As expected the closer to the city center the hight the location score"
   ]
  },
  {
   "cell_type": "code",
   "execution_count": 56,
   "metadata": {},
   "outputs": [
    {
     "data": {
      "text/html": [
       "<div>\n",
       "<style scoped>\n",
       "    .dataframe tbody tr th:only-of-type {\n",
       "        vertical-align: middle;\n",
       "    }\n",
       "\n",
       "    .dataframe tbody tr th {\n",
       "        vertical-align: top;\n",
       "    }\n",
       "\n",
       "    .dataframe thead th {\n",
       "        text-align: right;\n",
       "    }\n",
       "</style>\n",
       "<table border=\"1\" class=\"dataframe\">\n",
       "  <thead>\n",
       "    <tr style=\"text-align: right;\">\n",
       "      <th></th>\n",
       "      <th>review_scores_location</th>\n",
       "    </tr>\n",
       "  </thead>\n",
       "  <tbody>\n",
       "    <tr>\n",
       "      <th>count</th>\n",
       "      <td>20212.000000</td>\n",
       "    </tr>\n",
       "    <tr>\n",
       "      <th>mean</th>\n",
       "      <td>4.746825</td>\n",
       "    </tr>\n",
       "    <tr>\n",
       "      <th>std</th>\n",
       "      <td>0.394859</td>\n",
       "    </tr>\n",
       "    <tr>\n",
       "      <th>min</th>\n",
       "      <td>1.000000</td>\n",
       "    </tr>\n",
       "    <tr>\n",
       "      <th>25%</th>\n",
       "      <td>4.670000</td>\n",
       "    </tr>\n",
       "    <tr>\n",
       "      <th>50%</th>\n",
       "      <td>4.880000</td>\n",
       "    </tr>\n",
       "    <tr>\n",
       "      <th>75%</th>\n",
       "      <td>4.990000</td>\n",
       "    </tr>\n",
       "    <tr>\n",
       "      <th>max</th>\n",
       "      <td>5.000000</td>\n",
       "    </tr>\n",
       "  </tbody>\n",
       "</table>\n",
       "</div>"
      ],
      "text/plain": [
       "       review_scores_location\n",
       "count            20212.000000\n",
       "mean                 4.746825\n",
       "std                  0.394859\n",
       "min                  1.000000\n",
       "25%                  4.670000\n",
       "50%                  4.880000\n",
       "75%                  4.990000\n",
       "max                  5.000000"
      ]
     },
     "metadata": {},
     "output_type": "display_data"
    },
    {
     "data": {
      "text/html": [
       "<div>\n",
       "<style scoped>\n",
       "    .dataframe tbody tr th:only-of-type {\n",
       "        vertical-align: middle;\n",
       "    }\n",
       "\n",
       "    .dataframe tbody tr th {\n",
       "        vertical-align: top;\n",
       "    }\n",
       "\n",
       "    .dataframe thead th {\n",
       "        text-align: right;\n",
       "    }\n",
       "</style>\n",
       "<table border=\"1\" class=\"dataframe\">\n",
       "  <thead>\n",
       "    <tr style=\"text-align: right;\">\n",
       "      <th></th>\n",
       "      <th>review_scores_rating</th>\n",
       "    </tr>\n",
       "    <tr>\n",
       "      <th>room_type</th>\n",
       "      <th></th>\n",
       "    </tr>\n",
       "  </thead>\n",
       "  <tbody>\n",
       "    <tr>\n",
       "      <th>Private room</th>\n",
       "      <td>4.651647</td>\n",
       "    </tr>\n",
       "    <tr>\n",
       "      <th>Entire home/apt</th>\n",
       "      <td>4.637635</td>\n",
       "    </tr>\n",
       "    <tr>\n",
       "      <th>Hotel room</th>\n",
       "      <td>4.611183</td>\n",
       "    </tr>\n",
       "    <tr>\n",
       "      <th>Shared room</th>\n",
       "      <td>4.523529</td>\n",
       "    </tr>\n",
       "  </tbody>\n",
       "</table>\n",
       "</div>"
      ],
      "text/plain": [
       "                 review_scores_rating\n",
       "room_type                            \n",
       "Private room                 4.651647\n",
       "Entire home/apt              4.637635\n",
       "Hotel room                   4.611183\n",
       "Shared room                  4.523529"
      ]
     },
     "metadata": {},
     "output_type": "display_data"
    }
   ],
   "source": [
    "# Rating ranking for each room_type\n",
    "\n",
    "df_room_type = df_new[['review_scores_rating','room_type']]\n",
    "display(df_location.describe())\n",
    "ranking_room = df_room_type.groupby(['room_type']).mean().sort_values('review_scores_rating', ascending=False)\n",
    "display(ranking_room)"
   ]
  },
  {
   "cell_type": "code",
   "execution_count": 65,
   "metadata": {},
   "outputs": [
    {
     "data": {
      "text/plain": [
       "<BarContainer object of 4 artists>"
      ]
     },
     "execution_count": 65,
     "metadata": {},
     "output_type": "execute_result"
    },
    {
     "data": {
      "image/png": "[encoded data removed]",
      "text/plain": [
       "<Figure size 640x480 with 1 Axes>"
      ]
     },
     "metadata": {},
     "output_type": "display_data"
    }
   ],
   "source": [
    "plt.barh(ranking_room.index.values, ranking_room['review_scores_rating'])"
   ]
  },
  {
   "cell_type": "markdown",
   "metadata": {},
   "source": [
    "There is little difference between room types, but they private room has a slightly higher rating that the shared room."
   ]
  },
  {
   "cell_type": "markdown",
   "metadata": {},
   "source": [
    "# Question 3: Can the price be predicted?\n",
    "What's the average price? How much can a host earn?"
   ]
  },
  {
   "cell_type": "code",
   "execution_count": 89,
   "metadata": {},
   "outputs": [
    {
     "data": {
      "text/html": [
       "<div>\n",
       "<style scoped>\n",
       "    .dataframe tbody tr th:only-of-type {\n",
       "        vertical-align: middle;\n",
       "    }\n",
       "\n",
       "    .dataframe tbody tr th {\n",
       "        vertical-align: top;\n",
       "    }\n",
       "\n",
       "    .dataframe thead th {\n",
       "        text-align: right;\n",
       "    }\n",
       "</style>\n",
       "<table border=\"1\" class=\"dataframe\">\n",
       "  <thead>\n",
       "    <tr style=\"text-align: right;\">\n",
       "      <th></th>\n",
       "      <th>price</th>\n",
       "    </tr>\n",
       "  </thead>\n",
       "  <tbody>\n",
       "    <tr>\n",
       "      <th>count</th>\n",
       "      <td>21734.000000</td>\n",
       "    </tr>\n",
       "    <tr>\n",
       "      <th>mean</th>\n",
       "      <td>129.016058</td>\n",
       "    </tr>\n",
       "    <tr>\n",
       "      <th>std</th>\n",
       "      <td>270.553640</td>\n",
       "    </tr>\n",
       "    <tr>\n",
       "      <th>min</th>\n",
       "      <td>8.000000</td>\n",
       "    </tr>\n",
       "    <tr>\n",
       "      <th>25%</th>\n",
       "      <td>59.000000</td>\n",
       "    </tr>\n",
       "    <tr>\n",
       "      <th>50%</th>\n",
       "      <td>90.000000</td>\n",
       "    </tr>\n",
       "    <tr>\n",
       "      <th>75%</th>\n",
       "      <td>137.000000</td>\n",
       "    </tr>\n",
       "    <tr>\n",
       "      <th>max</th>\n",
       "      <td>21000.000000</td>\n",
       "    </tr>\n",
       "  </tbody>\n",
       "</table>\n",
       "</div>"
      ],
      "text/plain": [
       "              price\n",
       "count  21734.000000\n",
       "mean     129.016058\n",
       "std      270.553640\n",
       "min        8.000000\n",
       "25%       59.000000\n",
       "50%       90.000000\n",
       "75%      137.000000\n",
       "max    21000.000000"
      ]
     },
     "metadata": {},
     "output_type": "display_data"
    },
    {
     "data": {
      "text/plain": [
       "price    float64\n",
       "dtype: object"
      ]
     },
     "metadata": {},
     "output_type": "display_data"
    }
   ],
   "source": [
    "# Analysis of the price variable\n",
    "\n",
    "display(df_new[['price']].describe())\n",
    "display(df_new[['price']].dtypes)"
   ]
  },
  {
   "cell_type": "markdown",
   "metadata": {},
   "source": [
    "The price column is stored as an object, the first step is to convert this column to a float to perform calculations."
   ]
  },
  {
   "cell_type": "code",
   "execution_count": 133,
   "metadata": {},
   "outputs": [
    {
     "data": {
      "text/plain": [
       "count    21734.000000\n",
       "mean       129.016058\n",
       "std        270.553640\n",
       "min          8.000000\n",
       "25%         59.000000\n",
       "50%         90.000000\n",
       "75%        137.000000\n",
       "max      21000.000000\n",
       "Name: price, dtype: float64"
      ]
     },
     "metadata": {},
     "output_type": "display_data"
    },
    {
     "data": {
      "text/plain": [
       "(21734, 59)"
      ]
     },
     "metadata": {},
     "output_type": "display_data"
    }
   ],
   "source": [
    "# Store the price as string to perform replacements\n",
    "df_new['price'] = df_new['price'].astype('str')\n",
    "\n",
    "# Get rid of $ sign and , as thousands separator\n",
    "df_new['price'] = df_new['price'].map(lambda x: x.lstrip('$').replace(',',''))\n",
    "\n",
    "# Convert to float\n",
    "df_new['price'] = df_new['price'].astype('float')\n",
    "display(df_new['price'].describe())\n",
    "display(df_new.shape)\n"
   ]
  },
  {
   "cell_type": "markdown",
   "metadata": {},
   "source": [
    "The data has 3,809 NaN values that should be removed,"
   ]
  },
  {
   "cell_type": "code",
   "execution_count": 162,
   "metadata": {},
   "outputs": [
    {
     "data": {
      "text/html": [
       "<div>\n",
       "<style scoped>\n",
       "    .dataframe tbody tr th:only-of-type {\n",
       "        vertical-align: middle;\n",
       "    }\n",
       "\n",
       "    .dataframe tbody tr th {\n",
       "        vertical-align: top;\n",
       "    }\n",
       "\n",
       "    .dataframe thead th {\n",
       "        text-align: right;\n",
       "    }\n",
       "</style>\n",
       "<table border=\"1\" class=\"dataframe\">\n",
       "  <thead>\n",
       "    <tr style=\"text-align: right;\">\n",
       "      <th></th>\n",
       "      <th>count</th>\n",
       "      <th>percentaje</th>\n",
       "    </tr>\n",
       "    <tr>\n",
       "      <th>price</th>\n",
       "      <th></th>\n",
       "      <th></th>\n",
       "    </tr>\n",
       "  </thead>\n",
       "  <tbody>\n",
       "    <tr>\n",
       "      <th>(0, 10]</th>\n",
       "      <td>29</td>\n",
       "      <td>0.001334</td>\n",
       "    </tr>\n",
       "    <tr>\n",
       "      <th>(10, 100]</th>\n",
       "      <td>12534</td>\n",
       "      <td>0.576700</td>\n",
       "    </tr>\n",
       "    <tr>\n",
       "      <th>(100, 1000]</th>\n",
       "      <td>9072</td>\n",
       "      <td>0.417411</td>\n",
       "    </tr>\n",
       "    <tr>\n",
       "      <th>(1000, 10000]</th>\n",
       "      <td>98</td>\n",
       "      <td>0.004509</td>\n",
       "    </tr>\n",
       "    <tr>\n",
       "      <th>(10000, 100000]</th>\n",
       "      <td>1</td>\n",
       "      <td>0.000046</td>\n",
       "    </tr>\n",
       "  </tbody>\n",
       "</table>\n",
       "</div>"
      ],
      "text/plain": [
       "                 count  percentaje\n",
       "price                             \n",
       "(0, 10]             29    0.001334\n",
       "(10, 100]        12534    0.576700\n",
       "(100, 1000]       9072    0.417411\n",
       "(1000, 10000]       98    0.004509\n",
       "(10000, 100000]      1    0.000046"
      ]
     },
     "execution_count": 162,
     "metadata": {},
     "output_type": "execute_result"
    }
   ],
   "source": [
    "# Outliner analysis\n",
    "\n",
    "# Define bins to get ranges of pricing\n",
    "\n",
    "bins = [0, 10, 100, 1000, 10000, 100000]\n",
    "price_bins = pd.cut(df_new['price'], bins=bins).value_counts().sort_index()\n",
    "price_data = pd.DataFrame(price_bins)\n",
    "price_data['percentaje'] = price_data['count']/df_new.shape[0]\n",
    "price_data"
   ]
  },
  {
   "cell_type": "markdown",
   "metadata": {},
   "source": [
    "The average price is $129 per night. Almost 60% of the listins have a price between $10 and $100 per night."
   ]
  },
  {
   "cell_type": "code",
   "execution_count": 163,
   "metadata": {},
   "outputs": [],
   "source": [
    "# Remove rows without a price\n",
    "df_new.dropna(subset='price', inplace=True)"
   ]
  },
  {
   "cell_type": "markdown",
   "metadata": {},
   "source": [
    "To calculate how much can earn the following assumptions are considered:\n",
    "* The price per night will be the average price\n",
    "* To calculate the bookings, the column 'availability_30' is used\n",
    "* This column provides the availability for the next 30 days, for this analysis it will be considered that the days that is not available is due to bookings\n",
    "* Then, the average bookings per month will equal to 30 - availability_30"
   ]
  },
  {
   "cell_type": "code",
   "execution_count": 178,
   "metadata": {},
   "outputs": [
    {
     "data": {
      "text/plain": [
       "count    21734.000000\n",
       "mean        10.277630\n",
       "std          9.953143\n",
       "min          0.000000\n",
       "25%          0.000000\n",
       "50%          8.000000\n",
       "75%         18.000000\n",
       "max         30.000000\n",
       "Name: availability_30, dtype: float64"
      ]
     },
     "metadata": {},
     "output_type": "display_data"
    },
    {
     "name": "stdout",
     "output_type": "stream",
     "text": [
      "20\n"
     ]
    }
   ],
   "source": [
    "# Average reviews per month\n",
    "\n",
    "display(df_new['availability_30'].describe())\n",
    "average_bookings_month = 30 - round(df_new['availability_30'].mean())\n",
    "print(average_bookings_month)"
   ]
  },
  {
   "cell_type": "code",
   "execution_count": 179,
   "metadata": {},
   "outputs": [
    {
     "name": "stdout",
     "output_type": "stream",
     "text": [
      "A host could earn an average of $2580.32 per month\n"
     ]
    }
   ],
   "source": [
    "# Possible earnings per month\n",
    "\n",
    "average_price = df_new['price'].mean()\n",
    "print('A host could earn an average of ${:.2f} per month'.format(average_price*average_bookings_month))"
   ]
  },
  {
   "cell_type": "code",
   "execution_count": null,
   "metadata": {},
   "outputs": [],
   "source": [
    "# Categorical variables"
   ]
  }
 ],
 "metadata": {
  "kernelspec": {
   "display_name": "base",
   "language": "python",
   "name": "python3"
  },
  "language_info": {
   "codemirror_mode": {
    "name": "ipython",
    "version": 3
   },
   "file_extension": ".py",
   "mimetype": "text/x-python",
   "name": "python",
   "nbconvert_exporter": "python",
   "pygments_lexer": "ipython3",
   "version": "3.11.5"
  }
 },
 "nbformat": 4,
 "nbformat_minor": 2
}
